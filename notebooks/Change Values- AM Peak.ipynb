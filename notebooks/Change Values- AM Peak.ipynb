{
 "cells": [
  {
   "cell_type": "code",
   "execution_count": 1,
   "metadata": {
    "collapsed": true
   },
   "outputs": [],
   "source": [
    "%matplotlib inline\n",
    "DATA_DIR = '../data'"
   ]
  },
  {
   "cell_type": "code",
   "execution_count": 2,
   "metadata": {
    "collapsed": true
   },
   "outputs": [],
   "source": [
    "import pandas as pd\n",
    ""
   ]
  },
  {
   "cell_type": "code",
   "execution_count": 3,
   "metadata": {
    "collapsed": true
   },
   "outputs": [],
   "source": [
    "import numpy as np\n",
    ""
   ]
  },
  {
   "cell_type": "code",
   "execution_count": 4,
   "metadata": {
    "collapsed": true
   },
   "outputs": [],
   "source": [
    "df = pd.read_excel(f'{DATA_DIR}/means_am_peak.xlsx', 'Sheet1')"
   ]
  },
  {
   "cell_type": "code",
   "execution_count": 5,
   "metadata": {
    "collapsed": false
   },
   "outputs": [
    {
     "output_type": "execute_result",
     "data": {
      "text/plain": "        Station  Year  Means AM Peak\n0  Addison Road  2010    2182.925000\n1           NaN  2011    2193.325000\n2           NaN  2012    2077.500000\n3           NaN  2013    1995.433333\n4           NaN  2014    1967.800000\n5     Anacostia  2010    3014.400000\n6           NaN  2011    3026.466667\n7           NaN  2012    2975.716667\n8           NaN  2013    2890.183333\n9           NaN  2014    2893.400000",
      "text/html": "<div>\n<style scoped>\n    .dataframe tbody tr th:only-of-type {\n        vertical-align: middle;\n    }\n\n    .dataframe tbody tr th {\n        vertical-align: top;\n    }\n\n    .dataframe thead th {\n        text-align: right;\n    }\n</style>\n<table border=\"1\" class=\"dataframe\">\n  <thead>\n    <tr style=\"text-align: right;\">\n      <th></th>\n      <th>Station</th>\n      <th>Year</th>\n      <th>Means AM Peak</th>\n    </tr>\n  </thead>\n  <tbody>\n    <tr>\n      <th>0</th>\n      <td>Addison Road</td>\n      <td>2010</td>\n      <td>2182.925000</td>\n    </tr>\n    <tr>\n      <th>1</th>\n      <td>NaN</td>\n      <td>2011</td>\n      <td>2193.325000</td>\n    </tr>\n    <tr>\n      <th>2</th>\n      <td>NaN</td>\n      <td>2012</td>\n      <td>2077.500000</td>\n    </tr>\n    <tr>\n      <th>3</th>\n      <td>NaN</td>\n      <td>2013</td>\n      <td>1995.433333</td>\n    </tr>\n    <tr>\n      <th>4</th>\n      <td>NaN</td>\n      <td>2014</td>\n      <td>1967.800000</td>\n    </tr>\n    <tr>\n      <th>5</th>\n      <td>Anacostia</td>\n      <td>2010</td>\n      <td>3014.400000</td>\n    </tr>\n    <tr>\n      <th>6</th>\n      <td>NaN</td>\n      <td>2011</td>\n      <td>3026.466667</td>\n    </tr>\n    <tr>\n      <th>7</th>\n      <td>NaN</td>\n      <td>2012</td>\n      <td>2975.716667</td>\n    </tr>\n    <tr>\n      <th>8</th>\n      <td>NaN</td>\n      <td>2013</td>\n      <td>2890.183333</td>\n    </tr>\n    <tr>\n      <th>9</th>\n      <td>NaN</td>\n      <td>2014</td>\n      <td>2893.400000</td>\n    </tr>\n  </tbody>\n</table>\n</div>"
     },
     "metadata": {},
     "execution_count": 5
    }
   ],
   "source": [
    "df.head(10)"
   ]
  },
  {
   "cell_type": "code",
   "execution_count": 6,
   "metadata": {
    "collapsed": true
   },
   "outputs": [],
   "source": [
    "df['Station'] = pd.Series(df['Station']).fillna(method='ffill')"
   ]
  },
  {
   "cell_type": "code",
   "execution_count": 7,
   "metadata": {
    "collapsed": false
   },
   "outputs": [
    {
     "output_type": "execute_result",
     "data": {
      "text/plain": "        Station  Year  Means AM Peak\n0  Addison Road  2010    2182.925000\n1  Addison Road  2011    2193.325000\n2  Addison Road  2012    2077.500000\n3  Addison Road  2013    1995.433333\n4  Addison Road  2014    1967.800000\n5     Anacostia  2010    3014.400000\n6     Anacostia  2011    3026.466667\n7     Anacostia  2012    2975.716667\n8     Anacostia  2013    2890.183333\n9     Anacostia  2014    2893.400000",
      "text/html": "<div>\n<style scoped>\n    .dataframe tbody tr th:only-of-type {\n        vertical-align: middle;\n    }\n\n    .dataframe tbody tr th {\n        vertical-align: top;\n    }\n\n    .dataframe thead th {\n        text-align: right;\n    }\n</style>\n<table border=\"1\" class=\"dataframe\">\n  <thead>\n    <tr style=\"text-align: right;\">\n      <th></th>\n      <th>Station</th>\n      <th>Year</th>\n      <th>Means AM Peak</th>\n    </tr>\n  </thead>\n  <tbody>\n    <tr>\n      <th>0</th>\n      <td>Addison Road</td>\n      <td>2010</td>\n      <td>2182.925000</td>\n    </tr>\n    <tr>\n      <th>1</th>\n      <td>Addison Road</td>\n      <td>2011</td>\n      <td>2193.325000</td>\n    </tr>\n    <tr>\n      <th>2</th>\n      <td>Addison Road</td>\n      <td>2012</td>\n      <td>2077.500000</td>\n    </tr>\n    <tr>\n      <th>3</th>\n      <td>Addison Road</td>\n      <td>2013</td>\n      <td>1995.433333</td>\n    </tr>\n    <tr>\n      <th>4</th>\n      <td>Addison Road</td>\n      <td>2014</td>\n      <td>1967.800000</td>\n    </tr>\n    <tr>\n      <th>5</th>\n      <td>Anacostia</td>\n      <td>2010</td>\n      <td>3014.400000</td>\n    </tr>\n    <tr>\n      <th>6</th>\n      <td>Anacostia</td>\n      <td>2011</td>\n      <td>3026.466667</td>\n    </tr>\n    <tr>\n      <th>7</th>\n      <td>Anacostia</td>\n      <td>2012</td>\n      <td>2975.716667</td>\n    </tr>\n    <tr>\n      <th>8</th>\n      <td>Anacostia</td>\n      <td>2013</td>\n      <td>2890.183333</td>\n    </tr>\n    <tr>\n      <th>9</th>\n      <td>Anacostia</td>\n      <td>2014</td>\n      <td>2893.400000</td>\n    </tr>\n  </tbody>\n</table>\n</div>"
     },
     "metadata": {},
     "execution_count": 7
    }
   ],
   "source": [
    "df.head(10)"
   ]
  },
  {
   "cell_type": "code",
   "execution_count": 8,
   "metadata": {
    "collapsed": true
   },
   "outputs": [],
   "source": [
    "df['Diff'] = df.groupby('Station')['Means AM Peak'].transform(pd.Series.diff).fillna(value=0)"
   ]
  },
  {
   "cell_type": "code",
   "execution_count": 9,
   "metadata": {
    "collapsed": false
   },
   "outputs": [
    {
     "output_type": "execute_result",
     "data": {
      "text/plain": "        Station  Year  Means AM Peak        Diff\n0  Addison Road  2010    2182.925000    0.000000\n1  Addison Road  2011    2193.325000   10.400000\n2  Addison Road  2012    2077.500000 -115.825000\n3  Addison Road  2013    1995.433333  -82.066667\n4  Addison Road  2014    1967.800000  -27.633333\n5     Anacostia  2010    3014.400000    0.000000\n6     Anacostia  2011    3026.466667   12.066667\n7     Anacostia  2012    2975.716667  -50.750000\n8     Anacostia  2013    2890.183333  -85.533333\n9     Anacostia  2014    2893.400000    3.216667",
      "text/html": "<div>\n<style scoped>\n    .dataframe tbody tr th:only-of-type {\n        vertical-align: middle;\n    }\n\n    .dataframe tbody tr th {\n        vertical-align: top;\n    }\n\n    .dataframe thead th {\n        text-align: right;\n    }\n</style>\n<table border=\"1\" class=\"dataframe\">\n  <thead>\n    <tr style=\"text-align: right;\">\n      <th></th>\n      <th>Station</th>\n      <th>Year</th>\n      <th>Means AM Peak</th>\n      <th>Diff</th>\n    </tr>\n  </thead>\n  <tbody>\n    <tr>\n      <th>0</th>\n      <td>Addison Road</td>\n      <td>2010</td>\n      <td>2182.925000</td>\n      <td>0.000000</td>\n    </tr>\n    <tr>\n      <th>1</th>\n      <td>Addison Road</td>\n      <td>2011</td>\n      <td>2193.325000</td>\n      <td>10.400000</td>\n    </tr>\n    <tr>\n      <th>2</th>\n      <td>Addison Road</td>\n      <td>2012</td>\n      <td>2077.500000</td>\n      <td>-115.825000</td>\n    </tr>\n    <tr>\n      <th>3</th>\n      <td>Addison Road</td>\n      <td>2013</td>\n      <td>1995.433333</td>\n      <td>-82.066667</td>\n    </tr>\n    <tr>\n      <th>4</th>\n      <td>Addison Road</td>\n      <td>2014</td>\n      <td>1967.800000</td>\n      <td>-27.633333</td>\n    </tr>\n    <tr>\n      <th>5</th>\n      <td>Anacostia</td>\n      <td>2010</td>\n      <td>3014.400000</td>\n      <td>0.000000</td>\n    </tr>\n    <tr>\n      <th>6</th>\n      <td>Anacostia</td>\n      <td>2011</td>\n      <td>3026.466667</td>\n      <td>12.066667</td>\n    </tr>\n    <tr>\n      <th>7</th>\n      <td>Anacostia</td>\n      <td>2012</td>\n      <td>2975.716667</td>\n      <td>-50.750000</td>\n    </tr>\n    <tr>\n      <th>8</th>\n      <td>Anacostia</td>\n      <td>2013</td>\n      <td>2890.183333</td>\n      <td>-85.533333</td>\n    </tr>\n    <tr>\n      <th>9</th>\n      <td>Anacostia</td>\n      <td>2014</td>\n      <td>2893.400000</td>\n      <td>3.216667</td>\n    </tr>\n  </tbody>\n</table>\n</div>"
     },
     "metadata": {},
     "execution_count": 9
    }
   ],
   "source": [
    "df.head(10)"
   ]
  },
  {
   "cell_type": "code",
   "execution_count": 10,
   "metadata": {
    "collapsed": true
   },
   "outputs": [],
   "source": [
    "df['% Change'] = df.groupby('Station')[\"Means AM Peak\"].pct_change().fillna(value=0)"
   ]
  },
  {
   "cell_type": "code",
   "execution_count": 11,
   "metadata": {
    "collapsed": false
   },
   "outputs": [
    {
     "output_type": "execute_result",
     "data": {
      "text/plain": "        Station  Year  Means AM Peak        Diff  % Change\n0  Addison Road  2010    2182.925000    0.000000  0.000000\n1  Addison Road  2011    2193.325000   10.400000  0.004764\n2  Addison Road  2012    2077.500000 -115.825000 -0.052808\n3  Addison Road  2013    1995.433333  -82.066667 -0.039503\n4  Addison Road  2014    1967.800000  -27.633333 -0.013848\n5     Anacostia  2010    3014.400000    0.000000  0.000000\n6     Anacostia  2011    3026.466667   12.066667  0.004003\n7     Anacostia  2012    2975.716667  -50.750000 -0.016769\n8     Anacostia  2013    2890.183333  -85.533333 -0.028744\n9     Anacostia  2014    2893.400000    3.216667  0.001113",
      "text/html": "<div>\n<style scoped>\n    .dataframe tbody tr th:only-of-type {\n        vertical-align: middle;\n    }\n\n    .dataframe tbody tr th {\n        vertical-align: top;\n    }\n\n    .dataframe thead th {\n        text-align: right;\n    }\n</style>\n<table border=\"1\" class=\"dataframe\">\n  <thead>\n    <tr style=\"text-align: right;\">\n      <th></th>\n      <th>Station</th>\n      <th>Year</th>\n      <th>Means AM Peak</th>\n      <th>Diff</th>\n      <th>% Change</th>\n    </tr>\n  </thead>\n  <tbody>\n    <tr>\n      <th>0</th>\n      <td>Addison Road</td>\n      <td>2010</td>\n      <td>2182.925000</td>\n      <td>0.000000</td>\n      <td>0.000000</td>\n    </tr>\n    <tr>\n      <th>1</th>\n      <td>Addison Road</td>\n      <td>2011</td>\n      <td>2193.325000</td>\n      <td>10.400000</td>\n      <td>0.004764</td>\n    </tr>\n    <tr>\n      <th>2</th>\n      <td>Addison Road</td>\n      <td>2012</td>\n      <td>2077.500000</td>\n      <td>-115.825000</td>\n      <td>-0.052808</td>\n    </tr>\n    <tr>\n      <th>3</th>\n      <td>Addison Road</td>\n      <td>2013</td>\n      <td>1995.433333</td>\n      <td>-82.066667</td>\n      <td>-0.039503</td>\n    </tr>\n    <tr>\n      <th>4</th>\n      <td>Addison Road</td>\n      <td>2014</td>\n      <td>1967.800000</td>\n      <td>-27.633333</td>\n      <td>-0.013848</td>\n    </tr>\n    <tr>\n      <th>5</th>\n      <td>Anacostia</td>\n      <td>2010</td>\n      <td>3014.400000</td>\n      <td>0.000000</td>\n      <td>0.000000</td>\n    </tr>\n    <tr>\n      <th>6</th>\n      <td>Anacostia</td>\n      <td>2011</td>\n      <td>3026.466667</td>\n      <td>12.066667</td>\n      <td>0.004003</td>\n    </tr>\n    <tr>\n      <th>7</th>\n      <td>Anacostia</td>\n      <td>2012</td>\n      <td>2975.716667</td>\n      <td>-50.750000</td>\n      <td>-0.016769</td>\n    </tr>\n    <tr>\n      <th>8</th>\n      <td>Anacostia</td>\n      <td>2013</td>\n      <td>2890.183333</td>\n      <td>-85.533333</td>\n      <td>-0.028744</td>\n    </tr>\n    <tr>\n      <th>9</th>\n      <td>Anacostia</td>\n      <td>2014</td>\n      <td>2893.400000</td>\n      <td>3.216667</td>\n      <td>0.001113</td>\n    </tr>\n  </tbody>\n</table>\n</div>"
     },
     "metadata": {},
     "execution_count": 11
    }
   ],
   "source": [
    "df.head(10)"
   ]
  },
  {
   "cell_type": "code",
   "execution_count": 12,
   "metadata": {
    "collapsed": false
   },
   "outputs": [],
   "source": [
    "def label(change):\n",
    "    if change < 0.05 and change > -0.05:\n",
    "        return \"flat\"\n",
    "    if change < 0:\n",
    "        return \"down\"\n",
    "    if change > 0:\n",
    "        return \"up\""
   ]
  },
  {
   "cell_type": "code",
   "execution_count": 13,
   "metadata": {
    "collapsed": true
   },
   "outputs": [],
   "source": [
    "df['Label'] = df.apply(lambda row: label(row['% Change']), axis=1)"
   ]
  },
  {
   "cell_type": "code",
   "execution_count": 14,
   "metadata": {
    "collapsed": false
   },
   "outputs": [
    {
     "output_type": "execute_result",
     "data": {
      "text/plain": "        Station  Year  Means AM Peak        Diff  % Change Label\n0  Addison Road  2010    2182.925000    0.000000  0.000000  flat\n1  Addison Road  2011    2193.325000   10.400000  0.004764  flat\n2  Addison Road  2012    2077.500000 -115.825000 -0.052808  down\n3  Addison Road  2013    1995.433333  -82.066667 -0.039503  flat\n4  Addison Road  2014    1967.800000  -27.633333 -0.013848  flat\n5     Anacostia  2010    3014.400000    0.000000  0.000000  flat\n6     Anacostia  2011    3026.466667   12.066667  0.004003  flat\n7     Anacostia  2012    2975.716667  -50.750000 -0.016769  flat\n8     Anacostia  2013    2890.183333  -85.533333 -0.028744  flat\n9     Anacostia  2014    2893.400000    3.216667  0.001113  flat",
      "text/html": "<div>\n<style scoped>\n    .dataframe tbody tr th:only-of-type {\n        vertical-align: middle;\n    }\n\n    .dataframe tbody tr th {\n        vertical-align: top;\n    }\n\n    .dataframe thead th {\n        text-align: right;\n    }\n</style>\n<table border=\"1\" class=\"dataframe\">\n  <thead>\n    <tr style=\"text-align: right;\">\n      <th></th>\n      <th>Station</th>\n      <th>Year</th>\n      <th>Means AM Peak</th>\n      <th>Diff</th>\n      <th>% Change</th>\n      <th>Label</th>\n    </tr>\n  </thead>\n  <tbody>\n    <tr>\n      <th>0</th>\n      <td>Addison Road</td>\n      <td>2010</td>\n      <td>2182.925000</td>\n      <td>0.000000</td>\n      <td>0.000000</td>\n      <td>flat</td>\n    </tr>\n    <tr>\n      <th>1</th>\n      <td>Addison Road</td>\n      <td>2011</td>\n      <td>2193.325000</td>\n      <td>10.400000</td>\n      <td>0.004764</td>\n      <td>flat</td>\n    </tr>\n    <tr>\n      <th>2</th>\n      <td>Addison Road</td>\n      <td>2012</td>\n      <td>2077.500000</td>\n      <td>-115.825000</td>\n      <td>-0.052808</td>\n      <td>down</td>\n    </tr>\n    <tr>\n      <th>3</th>\n      <td>Addison Road</td>\n      <td>2013</td>\n      <td>1995.433333</td>\n      <td>-82.066667</td>\n      <td>-0.039503</td>\n      <td>flat</td>\n    </tr>\n    <tr>\n      <th>4</th>\n      <td>Addison Road</td>\n      <td>2014</td>\n      <td>1967.800000</td>\n      <td>-27.633333</td>\n      <td>-0.013848</td>\n      <td>flat</td>\n    </tr>\n    <tr>\n      <th>5</th>\n      <td>Anacostia</td>\n      <td>2010</td>\n      <td>3014.400000</td>\n      <td>0.000000</td>\n      <td>0.000000</td>\n      <td>flat</td>\n    </tr>\n    <tr>\n      <th>6</th>\n      <td>Anacostia</td>\n      <td>2011</td>\n      <td>3026.466667</td>\n      <td>12.066667</td>\n      <td>0.004003</td>\n      <td>flat</td>\n    </tr>\n    <tr>\n      <th>7</th>\n      <td>Anacostia</td>\n      <td>2012</td>\n      <td>2975.716667</td>\n      <td>-50.750000</td>\n      <td>-0.016769</td>\n      <td>flat</td>\n    </tr>\n    <tr>\n      <th>8</th>\n      <td>Anacostia</td>\n      <td>2013</td>\n      <td>2890.183333</td>\n      <td>-85.533333</td>\n      <td>-0.028744</td>\n      <td>flat</td>\n    </tr>\n    <tr>\n      <th>9</th>\n      <td>Anacostia</td>\n      <td>2014</td>\n      <td>2893.400000</td>\n      <td>3.216667</td>\n      <td>0.001113</td>\n      <td>flat</td>\n    </tr>\n  </tbody>\n</table>\n</div>"
     },
     "metadata": {},
     "execution_count": 14
    }
   ],
   "source": [
    "df.head(10)\n",
    ""
   ]
  },
  {
   "cell_type": "code",
   "execution_count": 18,
   "metadata": {
    "collapsed": true
   },
   "outputs": [],
   "source": [
    "    df.to_excel(f'{DATA_DIR}/change_values_am_peak.xlsx', sheet_name='Sheet1')\n",
    ""
   ]
  }
 ],
 "metadata": {
  "kernelspec": {
   "display_name": "Python 3",
   "language": "python",
   "name": "python3"
  },
  "language_info": {
   "codemirror_mode": {
    "name": "ipython",
    "version": 3
   },
   "file_extension": ".py",
   "mimetype": "text/x-python",
   "name": "python",
   "nbconvert_exporter": "python",
   "pygments_lexer": "ipython3",
   "version": "3.7.4-final"
  }
 },
 "nbformat": 4,
 "nbformat_minor": 2
}